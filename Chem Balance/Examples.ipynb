{
 "cells": [
  {
   "cell_type": "code",
   "execution_count": 1,
   "metadata": {},
   "outputs": [],
   "source": [
    "import numpy as np;\n",
    "\n",
    "from YZ_chem_balance import YZ_ChemBalance ;"
   ]
  },
  {
   "cell_type": "markdown",
   "metadata": {},
   "source": [
    "## Example!"
   ]
  },
  {
   "cell_type": "code",
   "execution_count": 2,
   "metadata": {},
   "outputs": [
    {
     "name": "stdout",
     "output_type": "stream",
     "text": [
      "Using license file C:\\Users\\yluea\\gurobi.lic\n",
      "Academic license - for non-commercial use only\n",
      " 2.20 P + 3.00 CuSO4 + 4.80 H2O = 1.00 Cu3P + 1.20 H3PO4 + 3.00 H2SO4 \n"
     ]
    }
   ],
   "source": [
    "a = YZ_ChemBalance();\n",
    "Formulas1 = [\"P\", \"CuSO4\",\"H2O\"];\n",
    "Formulas2 = [\"Cu3P\", \"H3PO4\",\"H2SO4\"]\n",
    "charge = np.array([[0,1,0,3,-5,0]]); ## P and Cu\n",
    "a.Electrovalence(charge)\n",
    "a.Left(Formulas1);\n",
    "a.Right(Formulas2);\n",
    "a.Balance();"
   ]
  },
  {
   "cell_type": "code",
   "execution_count": 3,
   "metadata": {},
   "outputs": [
    {
     "name": "stdout",
     "output_type": "stream",
     "text": [
      " 1.00 H2O + 3.00 NO2 = 2.00 HNO3 + 1.00 NO \n"
     ]
    }
   ],
   "source": [
    "a = YZ_ChemBalance();\n",
    "Formulas1 = [\"H2O\",\"NO2\"];\n",
    "Formulas2 = [\"HNO3\",\"NO\"];\n",
    "charge = np.array([[0,0,1,-2]]) ## N\n",
    "a.Electrovalence(charge);\n",
    "a.Left(Formulas1);\n",
    "a.Right(Formulas2);\n",
    "a.Balance();"
   ]
  },
  {
   "cell_type": "code",
   "execution_count": 4,
   "metadata": {},
   "outputs": [
    {
     "name": "stdout",
     "output_type": "stream",
     "text": [
      " 1.00 Cl2 + 2.00 NaOH = 1.00 NaCl + 1.00 NaClO + 1.00 H2O \n"
     ]
    }
   ],
   "source": [
    "a = YZ_ChemBalance();\n",
    "Formulas1 = [\"Cl2\",\"NaOH\"];\n",
    "Formulas2 = [\"NaCl\",\"NaClO\",\"H2O\"];\n",
    "charge = np.array([[0,0,1,-1,0]]) ## Cl\n",
    "#a.Electrovalence(charge);\n",
    "a.Left(Formulas1);\n",
    "a.Right(Formulas2);\n",
    "a.Balance();"
   ]
  },
  {
   "cell_type": "code",
   "execution_count": 5,
   "metadata": {},
   "outputs": [
    {
     "name": "stdout",
     "output_type": "stream",
     "text": [
      " 3.00 H2S + 1.00 K2Cr2O7 + 4.00 H2SO4 = 1.00 Cr2(SO4)3 + 1.00 K2SO4 + 7.00 H2O + 3.00 S \n"
     ]
    }
   ],
   "source": [
    "a = YZ_ChemBalance();\n",
    "Formulas1 = [\"H2S\",\"K2Cr2O7\",\"H2SO4\"];\n",
    "Formulas2 = [\"Cr2(SO4)3\",\"K2SO4\",\"H2O\",\"S\"];\n",
    "charge = np.array([[0,0,0,6,0,0,-2]]) ## S,Cr\n",
    "a.Electrovalence(charge);\n",
    "a.Left(Formulas1);\n",
    "a.Right(Formulas2);\n",
    "a.Balance();"
   ]
  },
  {
   "cell_type": "code",
   "execution_count": 6,
   "metadata": {},
   "outputs": [
    {
     "name": "stdout",
     "output_type": "stream",
     "text": [
      " 10.00 HNO3 + 2.67 Fe = 2.67 Fe(NO3)3 + 1.00 NH4NO3 + 3.00 H2O \n"
     ]
    }
   ],
   "source": [
    "a = YZ_ChemBalance();\n",
    "Formulas1 = [\"HNO3\",\"Fe\"];\n",
    "Formulas2 = [\"Fe(NO3)3\",\"NH4NO3\",\"H2O\"];\n",
    "charge = np.array([[0,0,3,-8,0]]) ## N,Fe\n",
    "a.Electrovalence(charge);\n",
    "a.Left(Formulas1);\n",
    "a.Right(Formulas2);\n",
    "a.Balance();"
   ]
  },
  {
   "cell_type": "code",
   "execution_count": 7,
   "metadata": {},
   "outputs": [
    {
     "name": "stdout",
     "output_type": "stream",
     "text": [
      " 1.00 FeS2 + 2.80 CuSO4 + 2.40 H2O = 1.40 Cu2S + 1.00 FeSO4 + 2.40 H2SO4 \n"
     ]
    }
   ],
   "source": [
    "a = YZ_ChemBalance();\n",
    "Formulas1 = [\"FeS2\",\"CuSO4\",\"H2O\"];\n",
    "Formulas2 = [\"Cu2S\",\"FeSO4\",\"H2SO4\"];\n",
    "charge = np.array([[0,-1,0,0,0,0]]) ## Cu,S\n",
    "#a.Electrovalence(charge);\n",
    "a.Left(Formulas1);\n",
    "a.Right(Formulas2);\n",
    "a.Balance();"
   ]
  },
  {
   "cell_type": "code",
   "execution_count": 8,
   "metadata": {},
   "outputs": [
    {
     "name": "stdout",
     "output_type": "stream",
     "text": [
      " 8.00 HCl + 1.00 KMnO4 = 1.00 KCl + 1.00 MnCl2 + 2.50 Cl2 + 4.00 H2O \n"
     ]
    }
   ],
   "source": [
    "a = YZ_ChemBalance();\n",
    "Formulas1 = [\"HCl\",\"KMnO4\"];\n",
    "Formulas2 = [\"KCl\",\"MnCl2\",\"Cl2\",\"H2O\"];\n",
    "charge = np.array([[0,-1,0,0,0,0]]) ## Cu,S\n",
    "#a.Electrovalence(charge);\n",
    "a.Left(Formulas1);\n",
    "a.Right(Formulas2);\n",
    "a.Balance();"
   ]
  },
  {
   "cell_type": "code",
   "execution_count": 9,
   "metadata": {},
   "outputs": [
    {
     "name": "stdout",
     "output_type": "stream",
     "text": [
      " 14.00 HCl + 1.00 K2Cr2O7 = 2.00 KCl + 2.00 CrCl3 + 3.00 Cl2 + 7.00 H2O \n"
     ]
    }
   ],
   "source": [
    "a = YZ_ChemBalance();\n",
    "Formulas1 = [\"HCl\",\"K2Cr2O7\"];\n",
    "Formulas2 = [\"KCl\",\"CrCl3\",\"Cl2\",\"H2O\"];\n",
    "charge = np.array([[0,-1,0,0,0,0]])\n",
    "#a.Electrovalence(charge);\n",
    "a.Left(Formulas1);\n",
    "a.Right(Formulas2);\n",
    "a.Balance();"
   ]
  },
  {
   "cell_type": "code",
   "execution_count": null,
   "metadata": {},
   "outputs": [],
   "source": []
  }
 ],
 "metadata": {
  "kernelspec": {
   "display_name": "Python 3",
   "language": "python",
   "name": "python3"
  },
  "language_info": {
   "codemirror_mode": {
    "name": "ipython",
    "version": 3
   },
   "file_extension": ".py",
   "mimetype": "text/x-python",
   "name": "python",
   "nbconvert_exporter": "python",
   "pygments_lexer": "ipython3",
   "version": "3.7.4"
  }
 },
 "nbformat": 4,
 "nbformat_minor": 4
}
