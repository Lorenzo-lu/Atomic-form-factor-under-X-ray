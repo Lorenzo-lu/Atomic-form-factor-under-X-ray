{
 "cells": [
  {
   "cell_type": "code",
   "execution_count": 1,
   "metadata": {},
   "outputs": [],
   "source": [
    "import numpy as np;\n",
    "## Read chemical formula\n",
    "class YZ_ChemFormula:\n",
    "    def __init__(self):\n",
    "        ele = [\"H\" \t,\"He\" \t,\"Li\" \t,\"Be\" \t,\"B\" \t,\"C\" \t,\"N\" \t,\"O\" \t,\"F\" \t,\"Ne\" \t,\"Na\" \t,\"Mg\" \t,\"Al\" \t,\"Si\" \t,\"P\" \t,\"S\" \t,\"Cl\" \t,\"Ar\" \t,\n",
    "\"K\" \t,\"Ca\" \t,\"Sc\" \t,\"Ti\" \t,\"V\" \t,\"Cr\" \t,\"Mn\" \t,\"Fe\" \t,\"Co\" \t,\"Ni\" \t,\"Cu\" \t,\"Zn\" \t,\"Ga\" \t,\"Ge\" \t,\"As\" \t,\"Se\" \t,\"Br\" \t,\"Kr\" \t,\"Rb\" \t,\"Sr\" \t,\n",
    "\"Y\" \t,\"Zr\" \t,\"Nb\" \t,\"Mo\" \t,\"Tc\" \t,\"Ru\" \t,\"Rh\" \t,\"Pd\" \t,\"Ag\" \t,\"Cd\" \t,\"In\" \t,\"Sn\" \t,\"Sb\" \t,\"Te\" \t,\"I\" \t,\"Xe\" \t,\"Cs\" \t,\"Ba\" \t,\"La\" \t,\"Ce\" \t,\n",
    "\"Pr\" \t,\"Nd\" \t,\"Pm\" \t,\"Sm\" \t,\"Eu\" \t,\"Gd\" \t,\"Tb\" \t,\"Dy\" \t,\"Ho\" \t,\"Er\" \t,\"Tm\" \t,\"Yb\" \t,\"Lu\" \t,\"Hf\" \t,\"Ta\" \t,\"W\" \t,\"Re\" \t,\"Os\" ,\"Ir\" ,\"Pt\" \t,\n",
    "\"Au\" \t,\"Hg\" \t,\"Tl\" \t,\"Pb\" \t,\"Bi\" \t,\"Po\" \t,\"At\" \t,\"Rn\" \t,\"Fr\" \t,\"Ra\" \t,\"Ac\" \t,\"Th\" \t,\"Pa\" \t,\"U\" \t,\"Np\" \t,\"Pu\" \t,\"Am\" \t];\n",
    "\n",
    "        self.element_map = set(ele);\n",
    "        self.num_map = set([\"0\",\"1\",\"2\",\"3\",\"4\",\"5\",\"6\",\"7\",\"8\",\"9\",\".\"]);\n",
    "    def Chem2dic(self,chemical:str):\n",
    "        length = len(chemical);\n",
    "        start = 0;\n",
    "        end1 = 1;\n",
    "        end2 = 2;\n",
    "        dic = {};\n",
    "        while start < length:\n",
    "            \n",
    "            if (end2 <= length) and (chemical[start:end2] in self.element_map):\n",
    "                this_element = chemical[start:end2];\n",
    "                if this_element not in dic:\n",
    "                    dic[this_element] = 0;\n",
    "                dic[this_element] += 1;\n",
    "                start = end2;\n",
    "                end1 = start + 1;\n",
    "                end2 = start + 2;\n",
    "            else:\n",
    "                if (end1 <= length) and (chemical[start:end1] in self.element_map):\n",
    "                    this_element = chemical[start:end1];\n",
    "                    if this_element not in dic:\n",
    "                        dic[this_element] = 0;\n",
    "                    dic[this_element] += 1;\n",
    "                    #dic[this_element] = 1;\n",
    "                    start = end1;\n",
    "                    end1 = start + 1;\n",
    "                    end2 = start + 2;\n",
    "                #elif (end1 <= length) and (chemical[start:end1] not in self.element_map):\n",
    "                    #print(\"Wrong input after \", chemical[:start]);\n",
    "                    #return False;\n",
    "                \n",
    "            \n",
    "            if start  < length and chemical[start] in self.num_map:\n",
    "                dic[this_element] -= 1;\n",
    "                num_index = start;\n",
    "                while chemical[num_index] in self.num_map:  \n",
    "                    #print(chemical[num_index])\n",
    "                    num_index += 1;\n",
    "                    if num_index >= length:\n",
    "                        break;\n",
    "                #print(chemical[start:num_index])\n",
    "                #if this_element not in dic:\n",
    "                    #dic[this_element] = float(chemical[start:num_index]);\n",
    "                #else:\n",
    "                    #dic[this_element] += float(chemical[start:num_index]);\n",
    "                dic[this_element] += float(chemical[start:num_index]);\n",
    "                start = num_index;\n",
    "                end1 = start + 1;\n",
    "                end2 = start + 2;  \n",
    "                \n",
    "            if start  < length and chemical[start] == \"(\":\n",
    "                end = start;\n",
    "                while chemical[end] != \")\":\n",
    "                    end += 1;\n",
    "                #print(end)\n",
    "                sub_dic = self.Chem2dic(chemical[start+1:end]);\n",
    "                \n",
    "                start = end + 1;\n",
    "                end1 = start + 1;\n",
    "                end2 = start + 2;\n",
    "                \n",
    "                if start  < length and chemical[start] in self.num_map:\n",
    "                    num_index = start;\n",
    "                    while chemical[num_index] in self.num_map:  \n",
    "                        #print(chemical[num_index])\n",
    "                        num_index += 1;\n",
    "                        if num_index >= length:\n",
    "                            break;\n",
    "                \n",
    "                    n_cluster = float(chemical[start:num_index]);\n",
    "                    for i in sub_dic:\n",
    "                        sub_dic[i] *= n_cluster;\n",
    "                \n",
    "                    start = num_index;\n",
    "                    end1 = start + 1;\n",
    "                    end2 = start + 2;  \n",
    "                \n",
    "                for i in sub_dic:\n",
    "                    if i not in dic:\n",
    "                        dic[i] = sub_dic[i];\n",
    "                    else:\n",
    "                        dic[i] += sub_dic[i];\n",
    "            \n",
    "        return dic;\n",
    "            \n",
    "                \n",
    "    "
   ]
  },
  {
   "cell_type": "code",
   "execution_count": 2,
   "metadata": {},
   "outputs": [],
   "source": [
    "import gurobipy as gp;\n",
    "from gurobipy import GRB\n",
    "class YZ_ChemBalance(YZ_ChemFormula):\n",
    "    def __init__(self):\n",
    "        super(YZ_ChemBalance,self).__init__();\n",
    "        self.OxRed= False;\n",
    "\n",
    "        pass;\n",
    "    def Left(self, Formulas:list):  \n",
    "        self.chem_left = [];\n",
    "        self.elements_left = [];\n",
    "        self.Left_formulas = Formulas;\n",
    "        for i in Formulas:\n",
    "            #print(i)\n",
    "            dic_i = self.Chem2dic(i);\n",
    "            for ele in dic_i:\n",
    "                self.elements_left.append(ele);\n",
    "            self.chem_left.append(dic_i);\n",
    "        self.elements_left = set(self.elements_left);\n",
    "    def Right(self,Formulas:list):  \n",
    "        self.chem_right = [];\n",
    "        self.elements_right = [];\n",
    "        self.Right_formulas = Formulas;\n",
    "        for i in Formulas:\n",
    "            dic_i = self.Chem2dic(i);\n",
    "            for ele in dic_i:\n",
    "                self.elements_right.append(ele);   \n",
    "            self.chem_right.append(dic_i);\n",
    "        self.elements_right = set(self.elements_right);\n",
    "    def Electrovalence(self, change):\n",
    "        self.electron_constraint = change;\n",
    "        self.OxRed = True;\n",
    "        \n",
    "    def Balance(self, optimizer = \"Gurobi\"):\n",
    "        if (len(self.chem_left)==0) or (len(self.chem_right)==0):\n",
    "            print(\"Please input the chemicals first!\");\n",
    "            return False;\n",
    "        for i in self.Left_formulas:\n",
    "            if i in self.Right_formulas:\n",
    "                print(\"The products cannot be the reactants! Please double check the Formulas.\");\n",
    "                return False;\n",
    "        if len(self.elements_left) != len(self.elements_right):\n",
    "            print(\"Elements in reactants and products are not the same!\");\n",
    "            return False;\n",
    "            \n",
    "        n_species = len(self.chem_left) + len(self.chem_right);\n",
    "        self.elements = list(self.elements_left);\n",
    "        n_elements = len(self.elements);\n",
    "        self.Coe = np.zeros((n_elements, n_species));\n",
    "        \n",
    "        for col in range(len(self.chem_left)):\n",
    "            for row in range(n_elements):\n",
    "                ele = self.elements[row];\n",
    "                if ele in self.chem_left[col]:\n",
    "                    self.Coe[row,col] = self.chem_left[col][ele];\n",
    "        for col in range(len(self.chem_right)):\n",
    "            for row in range(n_elements):\n",
    "                ele = self.elements[row];\n",
    "                if ele in self.chem_right[col]:\n",
    "                    self.Coe[row,col+len(self.chem_left)] = -self.chem_right[col][ele];\n",
    "        target = np.zeros((n_elements,1));\n",
    "        if self.OxRed == True:\n",
    "            self.Coe = np.vstack((self.Coe, self.electron_constraint));\n",
    "            target = np.vstack((target, np.zeros((len(self.electron_constraint),1))));\n",
    "        \n",
    "        size = self.Coe.shape;\n",
    "        if size[1] > size[0] + 1:\n",
    "            print(\"Please add more constraints in electrons!\");\n",
    "            return None;\n",
    "        #A = self.Coe[:,1:];\n",
    "        #b = self.Coe[:,0:1];        \n",
    "        #ans = np.linalg.pinv(A).dot(b);\n",
    "        \n",
    "        if optimizer == \"SGD\":\n",
    "        #################################\n",
    "            # SGD\n",
    "            ans = self.SGD(self.Coe, target);\n",
    "            ans /= np.min(np.abs(ans));\n",
    "            ans /= np.sign(ans[0]);\n",
    "        #################################\n",
    "        \n",
    "        elif optimizer == \"Gurobi\":\n",
    "        #################################\n",
    "            #Gurobi\n",
    "            ans = self.Gurobi(self.Coe, target);\n",
    "            ans /= np.min(np.abs(ans));\n",
    "            ans /= np.sign(ans[0]);\n",
    "        #################################\n",
    "        #ans = self.SGD(A, b);\n",
    "        #ans = np.append(np.array([1]), ans);\n",
    "        \n",
    "        else:\n",
    "            print(\"Wrong optimizer!\");\n",
    "            return None;\n",
    "        \n",
    "        equation = \"\";\n",
    "        \n",
    "        \n",
    "        formulas = self.Left_formulas;\n",
    "        for i in range(len(formulas)):\n",
    "            if i > 0:\n",
    "                equation += \"+\";\n",
    "            equation += (\" \" + \"%.2f\"%(ans[i])+ \" \" +formulas[i] + \" \");\n",
    "        equation += \"=\";\n",
    "        n_left = i+1; ## the length of the left side!\n",
    "        #formulas = list(self.Right_formulas);\n",
    "        formulas = self.Right_formulas;\n",
    "        for i in range(len(formulas)):\n",
    "            if i > 0:\n",
    "                equation += \"+\";\n",
    "            equation += (\" \" + \"%.2f\"%(ans[i + n_left]) + \" \"+formulas[i] + \" \");\n",
    "        print(equation);\n",
    "        return ans;\n",
    "    \n",
    "    def SGD(self, A,T):\n",
    "        #x = np.ones((len(A[0,:]),1));\n",
    "        #x = np.zeros((len(A[0,:]),1));\n",
    "        x = np.random.randn(len(A[0,:]),1);\n",
    "        \n",
    "        momentum_beta = 0.9;\n",
    "        lr = 2e-2;\n",
    "        regu = 1e-1;\n",
    "        for i in range(int(1e6)):\n",
    "            '''\n",
    "            selection = np.random.randint(0, len(A[:,0]), 1)\n",
    "            Y = A[selection].dot(x);\n",
    "            dx = A[selection].T.dot(Y-T[selection]);\n",
    "            \n",
    "            '''\n",
    "            Y = A.dot(x);\n",
    "            dx = A.T.dot(Y-T)/len(Y);\n",
    "            #print(dx.shape)\n",
    "            \n",
    "            if i == 0:\n",
    "                dx_last = dx;            \n",
    "            dx_mom = (momentum_beta * dx) + (1-momentum_beta) * dx_last;\n",
    "            x -= (dx_mom *lr -  regu * np.sign(dx_mom));\n",
    "            \n",
    "            #x[np.where(x < 0)] = 1;\n",
    "            \n",
    "        return x;\n",
    "            \n",
    "    def Gurobi(self, A, T):\n",
    "        m = gp.Model();        \n",
    "        m.setParam('OutputFlag', 0);\n",
    "        x = m.addMVar(len(A[0,:]), vtype= \"c\");\n",
    "        m.setObjective(x @(x),GRB.MINIMIZE);\n",
    "        for i in range(len(A[:,0])):\n",
    "            m.addConstr(A[i,:] @ x == T[i]);   \n",
    "        m.addConstr(x[0] == 1);\n",
    "        m.optimize();\n",
    "        return x.X;\n",
    "        "
   ]
  },
  {
   "cell_type": "code",
   "execution_count": 3,
   "metadata": {},
   "outputs": [
    {
     "name": "stdout",
     "output_type": "stream",
     "text": [
      "Using license file C:\\Users\\yluea\\gurobi.lic\n",
      "Academic license - for non-commercial use only\n",
      " 2.20 P + 3.00 CuSO4 + 4.80 H2O = 1.00 Cu3P + 1.20 H3PO4 + 3.00 H2SO4 \n"
     ]
    }
   ],
   "source": [
    "a = YZ_ChemBalance();\n",
    "Formulas1 = [\"P\", \"CuSO4\",\"H2O\"];\n",
    "Formulas2 = [\"Cu3P\", \"H3PO4\",\"H2SO4\"]\n",
    "charge = np.array([[0,1,0,3,-5,0]]); ## P and Cu\n",
    "a.Electrovalence(charge)\n",
    "a.Left(Formulas1);\n",
    "a.Right(Formulas2);\n",
    "a.Balance();"
   ]
  },
  {
   "cell_type": "code",
   "execution_count": 4,
   "metadata": {},
   "outputs": [
    {
     "name": "stdout",
     "output_type": "stream",
     "text": [
      " 1.00 H2O + 3.00 NO2 = 2.00 HNO3 + 1.00 NO \n"
     ]
    }
   ],
   "source": [
    "a = YZ_ChemBalance();\n",
    "Formulas1 = [\"H2O\",\"NO2\"];\n",
    "Formulas2 = [\"HNO3\",\"NO\"];\n",
    "charge = np.array([[0,0,1,-2]]) ## N\n",
    "a.Electrovalence(charge);\n",
    "a.Left(Formulas1);\n",
    "a.Right(Formulas2);\n",
    "a.Balance();"
   ]
  },
  {
   "cell_type": "code",
   "execution_count": 5,
   "metadata": {},
   "outputs": [
    {
     "name": "stdout",
     "output_type": "stream",
     "text": [
      " 1.00 Cl2 + 2.00 NaOH = 1.00 NaCl + 1.00 NaClO + 1.00 H2O \n"
     ]
    }
   ],
   "source": [
    "a = YZ_ChemBalance();\n",
    "Formulas1 = [\"Cl2\",\"NaOH\"];\n",
    "Formulas2 = [\"NaCl\",\"NaClO\",\"H2O\"];\n",
    "charge = np.array([[0,0,1,-1,0]]) ## Cl\n",
    "#a.Electrovalence(charge);\n",
    "a.Left(Formulas1);\n",
    "a.Right(Formulas2);\n",
    "a.Balance();"
   ]
  },
  {
   "cell_type": "code",
   "execution_count": 6,
   "metadata": {},
   "outputs": [
    {
     "name": "stdout",
     "output_type": "stream",
     "text": [
      " 3.00 H2S + 1.00 K2Cr2O7 + 4.00 H2SO4 = 1.00 Cr2(SO4)3 + 1.00 K2SO4 + 7.00 H2O + 3.00 S \n"
     ]
    }
   ],
   "source": [
    "a = YZ_ChemBalance();\n",
    "Formulas1 = [\"H2S\",\"K2Cr2O7\",\"H2SO4\"];\n",
    "Formulas2 = [\"Cr2(SO4)3\",\"K2SO4\",\"H2O\",\"S\"];\n",
    "charge = np.array([[0,0,0,6,0,0,-2]]) ## S,Cr\n",
    "a.Electrovalence(charge);\n",
    "a.Left(Formulas1);\n",
    "a.Right(Formulas2);\n",
    "a.Balance();"
   ]
  },
  {
   "cell_type": "code",
   "execution_count": 7,
   "metadata": {},
   "outputs": [
    {
     "name": "stdout",
     "output_type": "stream",
     "text": [
      " 10.00 HNO3 + 2.67 Fe = 2.67 Fe(NO3)3 + 1.00 NH4NO3 + 3.00 H2O \n"
     ]
    }
   ],
   "source": [
    "a = YZ_ChemBalance();\n",
    "Formulas1 = [\"HNO3\",\"Fe\"];\n",
    "Formulas2 = [\"Fe(NO3)3\",\"NH4NO3\",\"H2O\"];\n",
    "charge = np.array([[0,0,3,-8,0]]) ## N,Fe\n",
    "a.Electrovalence(charge);\n",
    "a.Left(Formulas1);\n",
    "a.Right(Formulas2);\n",
    "a.Balance();"
   ]
  },
  {
   "cell_type": "code",
   "execution_count": 8,
   "metadata": {},
   "outputs": [
    {
     "name": "stdout",
     "output_type": "stream",
     "text": [
      " 1.00 FeS2 + 2.80 CuSO4 + 2.40 H2O = 1.40 Cu2S + 1.00 FeSO4 + 2.40 H2SO4 \n"
     ]
    }
   ],
   "source": [
    "a = YZ_ChemBalance();\n",
    "Formulas1 = [\"FeS2\",\"CuSO4\",\"H2O\"];\n",
    "Formulas2 = [\"Cu2S\",\"FeSO4\",\"H2SO4\"];\n",
    "charge = np.array([[0,-1,0,0,0,0]]) ## Cu,S\n",
    "#a.Electrovalence(charge);\n",
    "a.Left(Formulas1);\n",
    "a.Right(Formulas2);\n",
    "a.Balance();"
   ]
  },
  {
   "cell_type": "code",
   "execution_count": 9,
   "metadata": {},
   "outputs": [
    {
     "name": "stdout",
     "output_type": "stream",
     "text": [
      " 8.00 HCl + 1.00 KMnO4 = 1.00 KCl + 1.00 MnCl2 + 2.50 Cl2 + 4.00 H2O \n"
     ]
    }
   ],
   "source": [
    "a = YZ_ChemBalance();\n",
    "Formulas1 = [\"HCl\",\"KMnO4\"];\n",
    "Formulas2 = [\"KCl\",\"MnCl2\",\"Cl2\",\"H2O\"];\n",
    "charge = np.array([[0,-1,0,0,0,0]]) ## Cu,S\n",
    "#a.Electrovalence(charge);\n",
    "a.Left(Formulas1);\n",
    "a.Right(Formulas2);\n",
    "a.Balance();"
   ]
  },
  {
   "cell_type": "code",
   "execution_count": 10,
   "metadata": {},
   "outputs": [
    {
     "name": "stdout",
     "output_type": "stream",
     "text": [
      " 14.00 HCl + 1.00 K2Cr2O7 = 2.00 KCl + 2.00 CrCl3 + 3.00 Cl2 + 7.00 H2O \n"
     ]
    }
   ],
   "source": [
    "a = YZ_ChemBalance();\n",
    "Formulas1 = [\"HCl\",\"K2Cr2O7\"];\n",
    "Formulas2 = [\"KCl\",\"CrCl3\",\"Cl2\",\"H2O\"];\n",
    "charge = np.array([[0,-1,0,0,0,0]])\n",
    "#a.Electrovalence(charge);\n",
    "a.Left(Formulas1);\n",
    "a.Right(Formulas2);\n",
    "a.Balance();"
   ]
  },
  {
   "cell_type": "code",
   "execution_count": null,
   "metadata": {},
   "outputs": [],
   "source": []
  }
 ],
 "metadata": {
  "kernelspec": {
   "display_name": "Python 3",
   "language": "python",
   "name": "python3"
  },
  "language_info": {
   "codemirror_mode": {
    "name": "ipython",
    "version": 3
   },
   "file_extension": ".py",
   "mimetype": "text/x-python",
   "name": "python",
   "nbconvert_exporter": "python",
   "pygments_lexer": "ipython3",
   "version": "3.7.4"
  }
 },
 "nbformat": 4,
 "nbformat_minor": 4
}
